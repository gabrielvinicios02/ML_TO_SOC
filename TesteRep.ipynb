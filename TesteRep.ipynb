{
  "nbformat": 4,
  "nbformat_minor": 0,
  "metadata": {
    "colab": {
      "provenance": []
    },
    "kernelspec": {
      "name": "python3",
      "display_name": "Python 3"
    },
    "language_info": {
      "name": "python"
    }
  },
  "cells": [
    {
      "cell_type": "markdown",
      "source": [
        "#Teste"
      ],
      "metadata": {
        "id": "0gMVDRYTO1Wx"
      }
    },
    {
      "cell_type": "code",
      "execution_count": 1,
      "metadata": {
        "colab": {
          "base_uri": "https://localhost:8080/"
        },
        "id": "9gONpbVmOy2t",
        "outputId": "e7d281ac-238a-40d8-b629-ec341e1f795c"
      },
      "outputs": [
        {
          "output_type": "stream",
          "name": "stdout",
          "text": [
            "0\n"
          ]
        }
      ],
      "source": [
        "i=0\n",
        "print(i)"
      ]
    },
    {
      "cell_type": "markdown",
      "source": [
        "Teste 2 Repositorio"
      ],
      "metadata": {
        "id": "tjGNjATrRbvW"
      }
    },
    {
      "cell_type": "code",
      "source": [
        "i = 1\n",
        "print(i) "
      ],
      "metadata": {
        "id": "G5xsL959RfB2",
        "outputId": "28e7b204-ddd1-4302-950e-16717b564470",
        "colab": {
          "base_uri": "https://localhost:8080/"
        }
      },
      "execution_count": 2,
      "outputs": [
        {
          "output_type": "stream",
          "name": "stdout",
          "text": [
            "1\n"
          ]
        }
      ]
    }
  ]
}